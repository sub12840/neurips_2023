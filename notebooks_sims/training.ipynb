{
 "cells": [
  {
   "cell_type": "code",
   "execution_count": null,
   "metadata": {},
   "outputs": [],
   "source": [
    "import os\n",
    "import pickle\n",
    "import pandas as pd"
   ]
  },
  {
   "cell_type": "code",
   "execution_count": null,
   "metadata": {},
   "outputs": [],
   "source": [
    "home_string = ''\n",
    "os.chdir(home_string)"
   ]
  },
  {
   "cell_type": "code",
   "execution_count": null,
   "metadata": {},
   "outputs": [],
   "source": [
    "%load_ext autoreload\n",
    "%autoreload 2\n",
    "from main.training.train_routines import train_boosting_model, train_linear_models, train_fix_onetonets\n",
    "from main.training.sampling import sample_data_sim"
   ]
  },
  {
   "cell_type": "code",
   "execution_count": null,
   "metadata": {},
   "outputs": [],
   "source": [
    "want_data = pd.read_csv('data/application/data_selection/data_reg_reg.csv')\n",
    "want_data = want_data.drop(columns='POBP')\n",
    "# Set up to scale\n",
    "target_cols = ['PINCP', 'JWMNP']\n",
    "numeric_cols = ['SCHL', 'WKHP', 'AGEP', 'POVPIP']\n",
    "other_cols = want_data.drop(columns = target_cols + numeric_cols).columns\n",
    "\n",
    "feature_df = want_data.drop(columns=target_cols)\n",
    "label_df = want_data.loc[:,target_cols]\n",
    "\n",
    "data_dict, scaler_dict, sens_idx = sample_data_sim(feature_df, label_df, 42, scale_y=True,\n",
    "                                         other_cols=other_cols, numeric_cols=numeric_cols, \n",
    "                                         )"
   ]
  },
  {
   "cell_type": "code",
   "execution_count": null,
   "metadata": {},
   "outputs": [],
   "source": [
    "d = data_dict['X_train'].shape[1]\n",
    "hyper_params_oneto = {\n",
    " 'learning_rate' : [0.05,0.10,0.15],\n",
    " 'lambda_' : [10e-5, 10e-4, 10e-2, 0.5],\n",
    " 'gamma' : [1,4,10],\n",
    " 'r' : [2^2*d, 2^3*d, 2^4*d]\n",
    "}\n",
    "\n",
    "hyper_params_boost = {\n",
    " 'learning_rate' : [0.05,0.10,0.15,0.20,0.25,0.30],\n",
    " 'max_depth' : [ 3, 4, 5, 6, 8, 10, 12, 15],\n",
    " 'min_child_weight' : [ 1, 3, 5, 7 ],\n",
    " 'gamma': [ 0.0, 0.1, 0.2 , 0.3, 0.4 ],\n",
    " 'colsample_bytree' : [ 0.3, 0.4, 0.5 , 0.7 ]\n",
    "}"
   ]
  },
  {
   "cell_type": "code",
   "execution_count": null,
   "metadata": {},
   "outputs": [],
   "source": [
    "seeds = [102, 435, 860, 270, 106,  71, 700,\n",
    "         20, 614, 121, 466, 214, 330,\n",
    "         458,  87, 372,  99, 871, 663, 130]"
   ]
  },
  {
   "cell_type": "code",
   "execution_count": null,
   "metadata": {},
   "outputs": [],
   "source": [
    "for seed_ in seeds[-5:]:\n",
    "    data_dict, scaler_dict, sens_feature_idx = sample_data_sim(feature_df, label_df, seed_, scale_y=True)\n",
    "\n",
    "    y_test_orig = scaler_dict['scaler_y'].inverse_transform(data_dict['y_test'])\n",
    "    oneto_results = train_fix_onetonets(data_dict, hyper_params_oneto, sens_feature_idx)\n",
    "    oneto_results = scaler_dict['scaler_y'].inverse_transform(oneto_results)\n",
    "\n",
    "\n",
    "    prediction_dict = {   \n",
    "    'orig_data': y_test_orig, \n",
    "    'all_test_data': data_dict['X_test'],\n",
    "    'data_out_sens': sens_feature_idx, \n",
    "    'data_oneto': oneto_results\n",
    "    }\n",
    "\n",
    "    with open(f'data/application/results/results_seed_oneto_{seed_}.pkl', 'wb') as con_:\n",
    "        pickle.dump(prediction_dict, con_)\n",
    "\n",
    "    boosting_results = train_boosting_model(data_dict, hyper_params_boost, 10)\n",
    "    lasso_results = train_linear_models(data_dict, 10)\n",
    "\n",
    "    boosting_ = scaler_dict['scaler_y'].inverse_transform(boosting_results)\n",
    "    lasso_ = scaler_dict['scaler_y'].inverse_transform(lasso_results)\n",
    "    y_test_orig = scaler_dict['scaler_y'].inverse_transform(data_dict['y_test'])\n",
    "\n",
    "    prediction_dict = {   \n",
    "    'orig_data': y_test_orig, \n",
    "    'all_test_data': data_dict['X_test'],\n",
    "    'data_out_sens': sens_feature_idx, \n",
    "    'preds_boosting_': boosting_, \n",
    "    'preds_lasso_': lasso_, \n",
    "    }\n",
    "\n",
    "    with open(f'data/application/results/results_seed_{seed_}.pkl', 'wb') as con_:\n",
    "        pickle.dump(prediction_dict, con_)\n"
   ]
  }
 ],
 "metadata": {
  "kernelspec": {
   "display_name": "cenv_neurips",
   "language": "python",
   "name": "cenv_neurips"
  },
  "language_info": {
   "codemirror_mode": {
    "name": "ipython",
    "version": 3
   },
   "file_extension": ".py",
   "mimetype": "text/x-python",
   "name": "python",
   "nbconvert_exporter": "python",
   "pygments_lexer": "ipython3",
   "version": "3.10.10"
  },
  "orig_nbformat": 4
 },
 "nbformat": 4,
 "nbformat_minor": 2
}
